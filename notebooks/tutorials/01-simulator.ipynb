{
 "cells": [
  {
   "cell_type": "markdown",
   "metadata": {},
   "source": [
    "# Simulator\n",
    "\n",
    "This notebook goes over the basic usage of the simulator class interface to running some basic simulations of a Smoluchowski eqution, and shows how you can extend the functionality to work for a new system by defining a force function.\n",
    "\n",
    "After going through this notebook you should understan how to perform the following taasks using this package:\n",
    "- Initialize an instance of the FPE simulator class by defining a configuration dictionary\n",
    "- Run a simulation of the model system for a fixed amount of time in a static environment\n",
    "- Run a simulation of the model system in a dynamic environment\n",
    "- Calculate physical quantities, like work input, for the model system\n",
    "- Define a new, custom model, and use the simulator interface to run the model"
   ]
  },
  {
   "cell_type": "code",
   "execution_count": 22,
   "metadata": {},
   "outputs": [],
   "source": [
    "# Import necessary requirements\n",
    "import numpy as np\n",
    "from fokker_planck.simulator.simulator import HarmonicTranslationSimulator\n",
    "from fokker_planck.types.basetypes import BoundaryCondition\n",
    "\n",
    "# Define the required configuration for the system, we will look at a domain of\n",
    "# -2 -> +2 with a discretization of 0.01 in space and 0.001 in time\n",
    "config = {\n",
    "    \"D\": 1.0,\n",
    "    \"dx\": 0.01,\n",
    "    \"dt\": 0.001,\n",
    "    \"x_min\": -2,\n",
    "    \"x_max\": 2,\n",
    "    \"boundary_cond\": BoundaryCondition.Periodic\n",
    "}\n",
    "\n",
    "# An alternate, but equivalent configuration would specify, instead of x_min\n",
    "# and x_max, the range of x values directly:\n",
    "config_alt = {\n",
    "    \"D\": 1.0,\n",
    "    \"dx\": 0.01,\n",
    "    \"dt\": 0.0001,\n",
    "    \"x_array\": np.arange(-3, 3, 0.01)\n",
    "}\n"
   ]
  },
  {
   "cell_type": "code",
   "execution_count": 23,
   "metadata": {},
   "outputs": [
    {
     "name": "stderr",
     "output_type": "stream",
     "text": [
      "/Users/stevelarge/Research/FokkerPlanck/fokker_planck/Integrator.py:396: RuntimeWarning: overflow encountered in double_scalars\n",
      "  force_function(self.x_array[i] + 0.5 * self.dx, force_params) * half_prob[i + 1]\n",
      "/Users/stevelarge/Research/FokkerPlanck/fokker_planck/Integrator.py:358: RuntimeWarning: overflow encountered in double_scalars\n",
      "  - (self.D * delta_t / self.dx)\n",
      "/Users/stevelarge/Research/FokkerPlanck/fokker_planck/Integrator.py:359: RuntimeWarning: overflow encountered in double_scalars\n",
      "  * (halfFlux[index+1] - halfFlux[index])\n",
      "/Users/stevelarge/Research/FokkerPlanck/fokker_planck/Integrator.py:292: RuntimeWarning: overflow encountered in multiply\n",
      "  sum(energy_function(self.x_array, force_params_pre) * self.prob) * self.dx\n",
      "/Users/stevelarge/Research/FokkerPlanck/fokker_planck/Integrator.py:292: RuntimeWarning: invalid value encountered in double_scalars\n",
      "  sum(energy_function(self.x_array, force_params_pre) * self.prob) * self.dx\n",
      "/Users/stevelarge/Research/FokkerPlanck/fokker_planck/Integrator.py:295: RuntimeWarning: overflow encountered in multiply\n",
      "  sum(energy_function(self.x_array, force_params_post) * self.prob) * self.dx\n",
      "/Users/stevelarge/Research/FokkerPlanck/fokker_planck/Integrator.py:295: RuntimeWarning: invalid value encountered in double_scalars\n",
      "  sum(energy_function(self.x_array, force_params_post) * self.prob) * self.dx\n",
      "/Users/stevelarge/Research/FokkerPlanck/fokker_planck/Integrator.py:465: RuntimeWarning: overflow encountered in double_scalars\n",
      "  (self.D * delta_t / (2 * self.dx))\n",
      "/Users/stevelarge/Research/FokkerPlanck/fokker_planck/Integrator.py:470: RuntimeWarning: overflow encountered in double_scalars\n",
      "  (self.D * delta_t / (2 * self.dx))\n",
      "/Users/stevelarge/Research/FokkerPlanck/fokker_planck/Integrator.py:475: RuntimeWarning: overflow encountered in double_scalars\n",
      "  return fluxFw - fluxRev\n",
      "/Users/stevelarge/Research/FokkerPlanck/fokker_planck/Integrator.py:392: RuntimeWarning: invalid value encountered in double_scalars\n",
      "  0.5 * (self.prob[i + 1] + self.prob[i])\n",
      "/Users/stevelarge/Research/FokkerPlanck/fokker_planck/Integrator.py:402: RuntimeWarning: invalid value encountered in double_scalars\n",
      "  0.5 * (self.prob[0] + self.prob[-1])\n",
      "/Users/stevelarge/Research/FokkerPlanck/fokker_planck/Integrator.py:359: RuntimeWarning: invalid value encountered in double_scalars\n",
      "  * (halfFlux[index+1] - halfFlux[index])\n",
      "/Users/stevelarge/Research/FokkerPlanck/fokker_planck/base.py:221: RuntimeWarning: invalid value encountered in matmul\n",
      "  self.prob = np.matmul(self.CMat, self.prob)\n"
     ]
    }
   ],
   "source": [
    "# Now we can initialize the simulator class with the configuration as well\n",
    "# as a few parameters that are intended to be used for dynamic potentials\n",
    "\n",
    "harmonic_sim = HarmonicTranslationSimulator(config, trap_init=0, trap_fin=0.1, trap_strength=4.0)\n",
    "\n",
    "# And then run the simulation\n",
    "sim_result = harmonic_sim.run_simulation(tau=1.0)"
   ]
  },
  {
   "cell_type": "code",
   "execution_count": 24,
   "metadata": {},
   "outputs": [
    {
     "data": {
      "image/png": "[encoded data removed]",
      "text/plain": [
       "<Figure size 432x252 with 1 Axes>"
      ]
     },
     "metadata": {},
     "output_type": "display_data"
    }
   ],
   "source": [
    "import matplotlib.pyplot as plt\n",
    "import seaborn as sns\n",
    "sns.set(style='darkgrid', palette='hls')\n",
    "\n",
    "fig, ax = plt.subplots(1, 1, figsize=(6, 3.5))\n",
    "\n",
    "for prob in sim_result.prob_tracker[2:]:\n",
    "    ax.plot(sim_result._sim.fpe.x_array, prob)\n",
    "    break"
   ]
  },
  {
   "cell_type": "code",
   "execution_count": 26,
   "metadata": {},
   "outputs": [],
   "source": [
    "from fokker_planck.Integrator import FokkerPlank1D\n",
    "import fokker_planck.forceFunctions as ff\n",
    "\n",
    "x_array = np.arange(-3, 3, 0.01)\n",
    "fpe = FokkerPlank1D(1.0, 0.00025, 0.01, x_array)\n",
    "fpe.initialize_probability(0, 0.25)\n",
    "prob_tracker = []\n",
    "\n",
    "for _ in range(100):\n",
    "    prob_tracker.append(fpe.prob.copy())\n",
    "    fpe.integrate_step(([4.0, 0]), ff.harmonic_force)"
   ]
  },
  {
   "cell_type": "code",
   "execution_count": 28,
   "metadata": {},
   "outputs": [
    {
     "data": {
      "image/png": "[encoded data removed]",
      "text/plain": [
       "<Figure size 432x288 with 1 Axes>"
      ]
     },
     "metadata": {},
     "output_type": "display_data"
    }
   ],
   "source": [
    "fig, ax = plt.subplots(1, 1)\n",
    "\n",
    "for prob in prob_tracker[::5]:\n",
    "    ax.plot(x_array, prob)\n"
   ]
  },
  {
   "cell_type": "code",
   "execution_count": null,
   "metadata": {},
   "outputs": [],
   "source": []
  }
 ],
 "metadata": {
  "kernelspec": {
   "display_name": "Python 3",
   "language": "python",
   "name": "python3"
  },
  "language_info": {
   "codemirror_mode": {
    "name": "ipython",
    "version": 3
   },
   "file_extension": ".py",
   "mimetype": "text/x-python",
   "name": "python",
   "nbconvert_exporter": "python",
   "pygments_lexer": "ipython3",
   "version": "3.10.5"
  },
  "orig_nbformat": 4
 },
 "nbformat": 4,
 "nbformat_minor": 2
}
