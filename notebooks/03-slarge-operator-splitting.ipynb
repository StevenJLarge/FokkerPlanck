{
 "cells": [
  {
   "cell_type": "markdown",
   "metadata": {},
   "source": [
    "# Fokker-Planck Equation III: Operator Splitting\n",
    "\n",
    "This notebook investigates operator splitting methods for the Fokker Planck equation. Thus far in the notebook series, we have investigated the two terms in the FPE (Advection and Diffusion) separately, and in this notebook, we will investigate how these independent term-wise solutions can be used in combination to integrate the entire advection-diffusion equation, and discuss why it works, as well as the motivations and runtime savings afforded to the full implementation as a result.\n",
    "\n",
    "We can write the 1D Fokker-Planck equation, in general, as \n",
    "\n",
    "$$ \\partial_t p(x, t) = \\partial_x[\\mu(x, t) p(x, t)] + D \\partial_{xx}^2 p(x, t) $$\n",
    "\n",
    "Which, can be written more concisely in terms of the differential operator $\\mathcal{L}$ (often referred to as the *generator*) as\n",
    "\n",
    "$$ \\partial_t p(x, t) = \\mathcal{L} \\cdot p(x, t) $$\n",
    "\n",
    "where the Fokker-Planck operator $\\mathcal{L}$ is defined as\n",
    "\n",
    "$$ \\mathcal{L} \\equiv \\left( \\partial_x \\mu(x, t) + D\\partial_{xx}^2 \\right) $$\n",
    "\n",
    "Formally, the solution for $p(x, t)$ of the operator equation is simple (given an initial distribution $p(x, t_0)$), and simply written as\n",
    "\n",
    "$$ p(x, t) = e^{\\mathcal{L} \\Delta t} p(x, t_0) $$\n",
    "\n",
    "however, in practice, this solution is defined only in terms of its Taylor series, and is virtually impossible to evaluate in practice. However, if you consider the limit where only a small amount of time has passed ($\\Delta t \\ll 1$) then the exponential can be well approximted with its linear-order Taylor series as\n",
    "\n",
    "$$ p(x, t) \\approx p(x, t_0) + \\Delta t \\mathcal{L}\\cdot p(x, t_0) $$\n",
    "\n",
    "which formally aprpoximates the actual FPE in the $\\Delta t \\to 0$ limit, as we can re-arrange this equation to read\n",
    "\n",
    "$$ \\frac{p(x, t) - p(x, t_0)}{\\Delta t} \\approx \\partial_t p(x, t) = \\mathcal{L}p(x, t_0)$$\n",
    "\n",
    "So, what does this get us? Well, first, for finite but small timesteps, this equation gives an approximate means of iteratively updating the initial probability (essentialy what we are doing with the advection and diffusion terms in isolation). However, there is a set of methods (bradly known as *operator splitting* methods) that can significantly simplify the calculation of this in practice.\n",
    "\n",
    "Before delving into how operator splitting works in practice, its worth brining attantion to our prior analysis of the integration schemes for advection and diffusion alone. For the advective equation, the Lax-Wendroff method was sufficient to give high levels of stability, but gets complicated and cumbersome to apply to higher order equations like those involving diffusion. Conversely, a primary consideration for improving wall clock times in the diffusion equation was the fact that we were able to (often) make the simplification to the diffusion update that the coefficient $D$ was constant, and thus we were only required to invert the Crank-Nicolson matrices onces, and then use that inverse going forward (which provided a significant speedup---that improves with increasing $N$---upon inverting a matrix in each iteration). For many dynamic problems (virtually all instances of the Soluchowski equation that we will be interested in) the dynamics enter through the advective term, then it would be nice to still retain the ability to use the constant-$D$ speedup.  Herein lies the benefit of operator splitting methods.  Note that we can generally write the full Fokker-Planck equation as a summation over the advective $\\mathcal{L}_{\\rm A}$ and diffusive $\\mathcal{L}_{\\rm D}$ terms, and so the formal solution can be written as\n",
    "\n",
    "$$ p(x, t) = e^{\\mathcal{L}_{\\rm A} + \\mathcal{L}_{\\rm D}}p(x, t_0) $$\n",
    "\n",
    "Now, if the operators were themselves represented as simple numbers, then we would be able to split up the action of the operator on the initial probability into two contributions explicitlty and treat the operation of each term independently of the others. However, this is (unfortunately) not the case, and so such a procedure will not be correct.\n",
    "\n",
    "More specifically, we can make an appeal to an important result in the field of Lie algebras---known as the Baker-Campbell-Hausdorff (BCH) formula---to better understand what is going on. For our purposes, the BCH formla states that, for two operators $X$ and $Y$, the followign identity holds\n",
    "\n",
    "$$ e^Xe^Y = e^Z $$\n",
    "\n",
    "where\n",
    "\n",
    "$$ Z \\equiv X + Y + \\frac{1}{2}[X, Y] - \\frac{1}{12}[X, [X, Y]] - \\frac{1}{12}[Y, [X, Y]] \\cdots $$\n",
    "\n",
    "where $[X, Y] \\equiv XY - YX$ is the commutator beween $X$ and $Y$.\n",
    "\n",
    "Now, in the context of the present problem, the BCH formula implies that the operator equation solving the Fokker Planck equation can be written as\n",
    "\n",
    "$$ e^{(\\mathcal{L}_{rm A} + \\mathcal{L}_{\\rm D})\\Delta t + \\frac{1}{2}[\\mathcal{L}_{\\rm A}, \\mathcal{L}_{\\rm D}]\\Delta t^2 + \\cdots} = e^{\\mathcal{L}_{\\rm A}\\Delta t}e^{\\mathcal{L}_{\\rm D}\\Delta t} $$\n",
    "\n",
    "which implies that, to linear order in $\\Delta t$, the simple decomposition of the composite operator $\\mathcal{L}_{\\rm A} + \\mathcal{L}_{\\rm D}$ into the product of individual contributions can accurately capture the same properties.  Formally, this process, which is known as *Lie splitting* breaks the update of the PDE into substeps. In practice, this approximation reduces the update of the composite equation into two sub-problems as\n",
    "\n",
    "$$ p(x, t + \\Delta t) \\approx e^{\\mathcal{L}_{\\rm A}\\Delta t} e^{\\mathcal{L}_{\\rm D}\\Delta t}p(x, t) $$\n",
    "\n",
    "is calculated by first applying the Diffusion update ($\\exp(\\mathcal{L}_{\\rm D}\\Delta t)$) and then the advection update ($\\exp(\\mathcal{L}_{\\rm A}\\Delta t)$) to the result. From a practical standpoint, this decomposition of integration updates into constituent pieces can be exceptionally convenient as it allows us to independently treat the advection and diffusion parts of the equation, potentially using different integration schemes for each.\n",
    "\n",
    "While thie approach is convenient as-is, there are still some issues. Namely, there is an ambiguity as to which term to apply first. Given that the commutator between the advection and diffusion operators is assumed to be nonzero, the results will not be the same if the advection or diffusion operators are applied first (although, they will be up to $\\Delta t$). Further, the Advection and Diffusion integration schemes we have build for each component are accurate to $\\Delta t^2$, so using the Lie splitting scheme eliminates that accuracy, reducing it to $\\Delta t$.\n",
    "\n",
    "This problem can be resolved, however, by instead considering the following (seemingly trivial) modification of the original update operator:\n",
    "\n",
    "$$ e^{(\\mathcal{L}_{\\rm A} + \\mathcal{L}_{\\rm D})\\Delta t} = e^{\\tfrac{1}{2}(\\mathcal{L}_{\\rm A} + \\mathcal{L}_{\\rm D})\\Delta t}e^{\\tfrac{1}{2}(\\mathcal{L}_{\\rm D} + \\mathcal{L}_{\\rm A})\\Delta t} $$\n",
    "\n",
    "which is exact, because an operator will commute with itself, by definition. Note that in the second term on the RHS, the order of the updates has been switched. Now, performing a Lie splitting on both terms from the RHS above gives\n",
    "\n",
    "$$ e^{\\tfrac{1}{2}(\\mathcal{L}_{\\rm A} + \\mathcal{L}_{\\rm D})\\Delta t + \\frac{1}{2}[\\mathcal{L}_{\\rm A}, \\mathcal{L}_{\\rm D}]\\Delta t^2} = e^{\\frac{1}{2}\\mathcal{L}_{\\rm A}\\Delta t}e^{\\frac{1}{2}\\mathcal{L}_{\\rm D}\\Delta t} $$\n",
    "$$ e^{\\tfrac{1}{2}(\\mathcal{L}_{\\rm D} + \\mathcal{L}_{\\rm A})\\Delta t - \\frac{1}{2}[\\mathcal{L}_{\\rm A}, \\mathcal{L}_{\\rm D}]\\Delta t^2} = e^{\\frac{1}{2}\\mathcal{L}_{\\rm D}\\Delta t}e^{\\frac{1}{2}\\mathcal{L}_{\\rm A}\\Delta t} $$\n",
    "\n",
    "where in the second operator we have used the identity $[A, B] = -[B, A]$.  Here, it can be seen that, when we combine the two above updates, the $\\mathcal{O}(\\Delta t^2)$ error terms cancel out, leading to an update scheme that (much like our individual Advection and Diffusion schemes) is accurate to $\\mathcal{O}(\\Delta t^2)$. Here, the higher order $\\Delta t^3$ errors enter through the commultation ov each individual operator with ts commutator (*i.e.* $[\\mathcal{L}_{\\rm A}, [\\mathcal{L}_{\\rm A}, \\mathcal{L}_{\\rm D}]]$). \n",
    "\n",
    "Putting this all together the resulting operator decomposition, which in this case is known as *Symmetric Strang Splitting*, is \n",
    "\n",
    "$$ p(x, t + \\Delta t) \\approx e^{-\\frac{1}{2}\\mathcal{L}_{\\rm A}\\Delta t}e^{\\mathcal{L}_{\\rm D}\\Delta t} e^{\\frac{1}{2}\\mathcal{L}_{\\rm A}\\Delta t}p(x, t) $$\n",
    "\n",
    "which corresponds to the sequential operations of a 1/2-timestep update of the probability with the advection dynamics, a full time-step update of the diffusive dynamics, followed by another half-step update of the advection dynamics.\n",
    "\n",
    "Note here that there is still a slight asymmetry in this update equation. The order in which we apply the diffusion and advection updated is not equal. There is another scheme that seeks to remedy this, known as *Symmetrically Weighted Strang Splitting* (SWSS), which is implemented as an option in the integrator, and explained in more detail in Ref[1]\n",
    "\n",
    "#### References\n",
    "\n",
    "* [1] W. Press, S. Teukolsky, W. Vetterling, & B. Flannery, *Numerical Recipes: The Art of Scientific Computing*, 3rd Ed., 2007, Cambridge University Press."
   ]
  },
  {
   "cell_type": "markdown",
   "metadata": {},
   "source": [
    "In this notebook, we will shows that these splitting schemes do, in fact, succeed in reproducing the correct dynamics of the composite system. Given that we have thusfar developed integration schemes targetted for each term individually, rather than compare the split dynamics to a full integration of the composition (advection + diffusion), we will simply show that the integration split solutions reproduce the same physically relevant features of the dynamics that we would use to judge the efficacy of a full composite integrator."
   ]
  },
  {
   "cell_type": "code",
   "execution_count": 1,
   "metadata": {},
   "outputs": [],
   "source": [
    "import os\n",
    "import copy\n",
    "import numpy as np\n",
    "import matplotlib.pyplot as plt\n",
    "import seaborn as sns\n",
    "\n",
    "from FPE.Integrator import FPE_Integrator_1D\n",
    "import FPE.forceFunctions as ff\n",
    "\n",
    "sns.set(style=\"darkgrid\", palette=\"hls\")\n"
   ]
  },
  {
   "cell_type": "code",
   "execution_count": 2,
   "metadata": {},
   "outputs": [
    {
     "name": "stdout",
     "output_type": "stream",
     "text": [
      "\n",
      "\n",
      "Initializing diffusion term integration matrix...\n",
      "\n",
      "\t\tUsing Crank-Nicolson integration scheme...\n",
      "\t\tInitializing integration matrices for diffusion\n",
      "\n"
     ]
    }
   ],
   "source": [
    "# Now we can instantiate an integrator\n",
    "# Dynamics parameters\n",
    "D = 1.0\n",
    "dt = 0.01\n",
    "dx = 0.01\n",
    "x_array = np.arange(-1, 1, dx)\n",
    "\n",
    "fpe = FPE_Integrator_1D(D, dt, dx, x_array, splitMethod=\"lie\")\n",
    "fpe_split = copy.deepcopy(fpe)"
   ]
  },
  {
   "cell_type": "code",
   "execution_count": 3,
   "metadata": {},
   "outputs": [],
   "source": [
    "# Now we can initialize a Gaussian distribution in both scenarios, and show that a full integration step\n",
    "# reproduces the same output as a manual splitting operation in all of the optional cases.\n",
    "init_var = 0.05\n",
    "init_mean = 0.0\n",
    "\n",
    "fpe.initializeProbability(init_mean, init_var)\n",
    "fpe_split.initializeProbability(init_mean, init_var)\n",
    "\n",
    "init_prob = fpe.prob.copy()"
   ]
  },
  {
   "cell_type": "code",
   "execution_count": 4,
   "metadata": {},
   "outputs": [],
   "source": [
    "# First, we start with a Lie splitting, which just integrates each substep in\n",
    "# sequence\n",
    "fpe.integrate_step(([1.0]), ff.constantForce)\n",
    "\n",
    "fpe_split.advectionUpdate(([1.0]), ff.constantForce, dt)\n",
    "fpe_split.diffusionUpdate()"
   ]
  },
  {
   "cell_type": "code",
   "execution_count": 5,
   "metadata": {},
   "outputs": [
    {
     "data": {
      "text/plain": [
       "(True, False)"
      ]
     },
     "execution_count": 5,
     "metadata": {},
     "output_type": "execute_result"
    }
   ],
   "source": [
    "\n",
    "fpe_prob_lie = fpe.prob.copy()\n",
    "fpe_prob_lie_split = fpe_split.prob.copy()\n",
    "\n",
    "(fpe.prob == fpe_split.prob).all(), (fpe.prob == init_prob).all()\n"
   ]
  },
  {
   "cell_type": "code",
   "execution_count": 6,
   "metadata": {},
   "outputs": [
    {
     "data": {
      "image/png": "[encoded data removed]",
      "text/plain": [
       "<Figure size 432x288 with 2 Axes>"
      ]
     },
     "metadata": {
      "needs_background": "light"
     },
     "output_type": "display_data"
    }
   ],
   "source": [
    "fig, ax = plt.subplots(2, 1, figsize=(6, 4), sharex=True)\n",
    "ax[0].plot(fpe.xArray, fpe_prob_lie, color=sns.xkcd_rgb[\"shamrock\"], linewidth=2.5)\n",
    "ax[0].plot(fpe_split.xArray, fpe_prob_lie_split, color='k', linestyle='--', linewidth=2.5)\n",
    "\n",
    "ax[1].plot(fpe.xArray, fpe_prob_lie - fpe_prob_lie_split, linewidth=2.0)\n",
    "ax[1].set_xlabel(r\"$x$ coordinate\", fontsize=15)\n",
    "ax[1].set_ylabel(r\"Error\", fontsize=15)\n",
    "ax[0].set_ylabel(r\"$p(x)$\", fontsize=15)\n",
    "plt.tight_layout()"
   ]
  },
  {
   "cell_type": "code",
   "execution_count": 7,
   "metadata": {},
   "outputs": [],
   "source": [
    "# Now, we can do the same analysis for the strang splitting scheme, which is slightly different.\n",
    "# it preserves symmetry under time reversal, by splitting one of the integration steps into two\n",
    "# substeps and puts them on either side of the other. Specifically, the Strang integration step\n",
    "# is\n",
    "# 0.5 * Advection -> Diffusion -> 0.5 * Advection\n",
    "# This is out implementation, but the breaking-out of the advection step into\n",
    "# the different subteps can also be done on the diffusion opeartor.\n",
    "\n",
    "fpe.initializeProbability(init_mean, init_var)\n",
    "fpe_split.initializeProbability(init_mean, init_var)\n",
    "\n",
    "fpe.splitMethod = \"strang\"\n",
    "\n",
    "# Strang splitting\n",
    "fpe.integrate_step(([1.0]), ff.constantForce)\n",
    "\n",
    "# Manual implementation\n",
    "fpe_split.advectionUpdate(([1.0]), ff.constantForce, 0.5 * fpe_split.dt)\n",
    "fpe_split.diffusionUpdate()\n",
    "fpe_split.advectionUpdate(([1.0]), ff.constantForce, 0.5 * fpe_split.dt)"
   ]
  },
  {
   "cell_type": "code",
   "execution_count": 8,
   "metadata": {},
   "outputs": [
    {
     "data": {
      "text/plain": [
       "(True, False)"
      ]
     },
     "execution_count": 8,
     "metadata": {},
     "output_type": "execute_result"
    }
   ],
   "source": [
    "fpe_prob_strang = fpe.prob.copy()\n",
    "fpe_prob_strang_split = fpe_split.prob.copy()\n",
    "\n",
    "(fpe_prob_strang == fpe_prob_strang_split).all(), (fpe_prob_strang == init_prob).all()"
   ]
  },
  {
   "cell_type": "code",
   "execution_count": 9,
   "metadata": {},
   "outputs": [
    {
     "data": {
      "text/plain": [
       "Text(0, 0.5, 'Error')"
      ]
     },
     "execution_count": 9,
     "metadata": {},
     "output_type": "execute_result"
    },
    {
     "data": {
      "image/png": "[encoded data removed]",
      "text/plain": [
       "<Figure size 432x252 with 1 Axes>"
      ]
     },
     "metadata": {
      "needs_background": "light"
     },
     "output_type": "display_data"
    }
   ],
   "source": [
    "# Similarly, we can plot the difference between the two versions of the update\n",
    "# but ALSO the differences between the Lie split and Strang split versions\n",
    "fig, ax = plt.subplots(1, 1, figsize=(6, 3.5))\n",
    "ax.plot(fpe.xArray, fpe_prob_strang - fpe_prob_strang_split, label=\"Strang - Strang\", color=sns.xkcd_rgb[\"shamrock\"])\n",
    "ax.plot(fpe.xArray, fpe_prob_strang - fpe_prob_lie, label=\"Strang - Lie\", color=sns.xkcd_rgb[\"cerulean\"])\n",
    "ax.legend(fontsize=12, frameon=False)\n",
    "ax.set_xlabel(r\"$x$ coordinate\", fontsize=15)\n",
    "ax.set_ylabel(r\"Error\", fontsize=15)\n"
   ]
  },
  {
   "cell_type": "markdown",
   "metadata": {},
   "source": [
    "Here, we can see that there is a difference in the output of Strang vs Lie split implementations of the integration step. Given that the Strang splitting has a higher order of accuracy in time, we should take its output to be more correct.\n",
    "\n",
    "There is, however, a third splitting scheme currently supported known as the symmetrically-weighted strang splitting, which operated by averaging the output of two Lie split updated, with opposite orderings of the advection and diffusion operations. This SWSS scheme achieves the same order of accuracy as the strang splitting scheme."
   ]
  },
  {
   "cell_type": "code",
   "execution_count": 10,
   "metadata": {},
   "outputs": [],
   "source": [
    "fpe.initializeProbability(init_mean, init_var)\n",
    "fpe_split.initializeProbability(init_mean, init_var)\n",
    "\n",
    "fpe.splitMethod = \"swss\"\n",
    "\n",
    "# Strang splitting\n",
    "fpe.integrate_step(([1.0]), ff.constantForce)\n",
    "\n",
    "# Manual implementation\n",
    "fpe_split.advectionUpdate(([1.0]), ff.constantForce, fpe_split.dt)\n",
    "fpe_split.diffusionUpdate()\n",
    "prob_1 = fpe_split.prob.copy()\n",
    "\n",
    "fpe_split.prob = init_prob\n",
    "fpe_split.diffusionUpdate()\n",
    "fpe_split.advectionUpdate(([1.0]), ff.constantForce, fpe_split.dt)\n",
    "prob_2 = fpe_split.prob.copy()\n",
    "\n",
    "fpe_split.prob = 0.5 * (prob_1 + prob_2)"
   ]
  },
  {
   "cell_type": "code",
   "execution_count": 12,
   "metadata": {},
   "outputs": [
    {
     "data": {
      "text/plain": [
       "(True, False)"
      ]
     },
     "execution_count": 12,
     "metadata": {},
     "output_type": "execute_result"
    }
   ],
   "source": [
    "fpe_prob_swss = fpe.prob.copy()\n",
    "fpe_prob_swss_split = fpe_split.prob.copy()\n",
    "\n",
    "(fpe_prob_swss == fpe_prob_swss_split).all(), (fpe_prob_swss == init_prob).all()"
   ]
  },
  {
   "cell_type": "code",
   "execution_count": 16,
   "metadata": {},
   "outputs": [
    {
     "data": {
      "image/png": "[encoded data removed]",
      "text/plain": [
       "<Figure size 432x252 with 1 Axes>"
      ]
     },
     "metadata": {
      "needs_background": "light"
     },
     "output_type": "display_data"
    }
   ],
   "source": [
    "# And now we can compare the differences in all three splitting schemes\n",
    "fig, ax = plt.subplots(1, 1, figsize=(6, 3.5))\n",
    "\n",
    "ax.plot(fpe.xArray, fpe_prob_strang - fpe_prob_strang_split, linewidth=2.0, color=sns.xkcd_rgb[\"shamrock\"], label=\"Strang - Strang\")\n",
    "ax.plot(fpe.xArray, fpe_prob_strang - fpe_prob_lie, linewidth=2.0, color=sns.xkcd_rgb[\"cerulean\"], label=\"Strang - SWSS\")\n",
    "ax.plot(fpe.xArray, fpe_prob_strang - fpe_prob_swss, linewidth=2.0, color=sns.xkcd_rgb[\"tomato\"], label=\"Strang - Lie\")\n",
    "\n",
    "ax.legend(fontsize=12, frameon=False)\n",
    "ax.set_xlabel(r\"$x$ coordinate\", fontsize=15)\n",
    "ax.set_ylabel(r\"$\\Delta p(x)$\", fontsize=15)\n",
    "plt.show()"
   ]
  },
  {
   "cell_type": "code",
   "execution_count": null,
   "metadata": {},
   "outputs": [],
   "source": []
  }
 ],
 "metadata": {
  "kernelspec": {
   "display_name": "Python 3.10.5 ('FPE')",
   "language": "python",
   "name": "python3"
  },
  "language_info": {
   "codemirror_mode": {
    "name": "ipython",
    "version": 3
   },
   "file_extension": ".py",
   "mimetype": "text/x-python",
   "name": "python",
   "nbconvert_exporter": "python",
   "pygments_lexer": "ipython3",
   "version": "3.10.5"
  },
  "orig_nbformat": 4,
  "vscode": {
   "interpreter": {
    "hash": "1685b5e9335fc8175f09ab11b80e729aaa4ca979d4f831e0cd638df1fb4c129b"
   }
  }
 },
 "nbformat": 4,
 "nbformat_minor": 2
}
