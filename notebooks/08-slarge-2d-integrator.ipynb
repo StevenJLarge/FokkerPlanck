{
 "cells": [
  {
   "attachments": {},
   "cell_type": "markdown",
   "metadata": {},
   "source": [
    "# 2D Integrator"
   ]
  },
  {
   "cell_type": "code",
   "execution_count": 1,
   "metadata": {},
   "outputs": [],
   "source": [
    "import os\n",
    "import numpy as np\n",
    "import pandas as pd\n",
    "import matplotlib.pyplot as plt\n",
    "import seaborn as sns\n",
    "sns.set(style='darkgrid', palette='hls')\n",
    "\n",
    "from FPE.integrator_2D import FPE_integrator_2D\n"
   ]
  },
  {
   "cell_type": "code",
   "execution_count": 3,
   "metadata": {},
   "outputs": [
    {
     "name": "stdout",
     "output_type": "stream",
     "text": [
      "\n",
      "\n",
      "Initializing diffusion term integration matrix...\n",
      "\n",
      "\t\tUsing Crank-Nicolson integration scheme...\n",
      "\t\tInitializing integration matrices for diffusion\n",
      "\n"
     ]
    }
   ],
   "source": [
    "D = 1.0\n",
    "dx = 0.1\n",
    "dy = 0.1\n",
    "dt = 0.01\n",
    "xArray = np.arange(-1, 1, dx)\n",
    "yArray = np.arange(-1, 1, dy)\n",
    "\n",
    "fpe2 = FPE_integrator_2D(D, dt, dx, dy, xArray, yArray, boundaryCond='periodic', output=True)\n"
   ]
  },
  {
   "cell_type": "code",
   "execution_count": null,
   "metadata": {},
   "outputs": [],
   "source": []
  }
 ],
 "metadata": {
  "kernelspec": {
   "display_name": "Python 3",
   "language": "python",
   "name": "python3"
  },
  "language_info": {
   "codemirror_mode": {
    "name": "ipython",
    "version": 3
   },
   "file_extension": ".py",
   "mimetype": "text/x-python",
   "name": "python",
   "nbconvert_exporter": "python",
   "pygments_lexer": "ipython3",
   "version": "3.10.5"
  },
  "orig_nbformat": 4
 },
 "nbformat": 4,
 "nbformat_minor": 2
}
