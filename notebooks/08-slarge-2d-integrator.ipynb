{
 "cells": [
  {
   "attachments": {},
   "cell_type": "markdown",
   "metadata": {},
   "source": [
    "# 2D Integrator"
   ]
  },
  {
   "cell_type": "code",
   "execution_count": 1,
   "metadata": {},
   "outputs": [],
   "source": [
    "import os\n",
    "import numpy as np\n",
    "import pandas as pd\n",
    "import scipy.sparse as sp\n",
    "from scipy.sparse.linalg import inv\n",
    "import matplotlib.pyplot as plt\n",
    "import seaborn as sns\n",
    "import timeit\n",
    "sns.set(style='darkgrid', palette='hls')\n",
    "\n",
    "from FPE.integrator_2D import FPE_integrator_2D\n",
    "\n",
    "%load_ext autoreload\n",
    "%autoreload 2"
   ]
  },
  {
   "cell_type": "code",
   "execution_count": 22,
   "metadata": {},
   "outputs": [],
   "source": [
    "D = 1.0\n",
    "dx = 0.1\n",
    "dy = 0.1\n",
    "dt = 0.01\n",
    "x_array = np.arange(-1, 1, dx)\n",
    "y_array = np.arange(-1, 1, dy)\n",
    "\n",
    "\n",
    "def initDiffusionSparse(D, dt, dx, dy, N, Nx, Ny):\n",
    "\n",
    "    expImp = 0.5\n",
    "    alpha = D * dt / (dx * dy)\n",
    "\n",
    "    AMat = sp.lil_matrix((N, N))\n",
    "    BMat = sp.lil_matrix((N, N))\n",
    "\n",
    "    # Bulk term initializations\n",
    "    AMat.setdiag(1 + 4 * alpha * expImp)\n",
    "    AMat.setdiag(-1 * expImp * alpha, k=1)\n",
    "    AMat.setdiag(-1 * expImp * alpha, k=-1)\n",
    "    AMat.setdiag(-1 * expImp * alpha, k=Nx)\n",
    "    AMat.setdiag(-1 * expImp * alpha, k=-Nx)\n",
    "\n",
    "    BMat.setdiag(1 - 4 * alpha * (1 - expImp))\n",
    "    BMat.setdiag(alpha * (1 - expImp), k=1)\n",
    "    BMat.setdiag(alpha * (1 - expImp), k=-1)\n",
    "    BMat.setdiag(alpha * (1 - expImp), k=Nx)\n",
    "    BMat.setdiag(alpha * (1 - expImp), k=-Nx)\n",
    "\n",
    "    # self._initializeBoundaryTerms(alpha)\n",
    "\n",
    "    # convert to csr format\n",
    "    AMat = AMat.tocsc()\n",
    "    BMat = BMat.tocsc()\n",
    "\n",
    "    CMat = inv(AMat).dot(BMat)\n",
    "\n",
    "    return AMat, BMat, CMat\n",
    "\n",
    "def initDiffusionNumpy(D, dt, dx, dy, N, Nx, Ny):\n",
    "    alpha = D * dt / (dx * dy)\n",
    "    expImp = 0.5\n",
    "\n",
    "    AMat = np.zeros((N, N))\n",
    "    BMat = np.zeros((N, N))\n",
    "\n",
    "    # Bulk term initializations\n",
    "    AMat = (\n",
    "        np.diag(1 + 4 * alpha * expImp * np.ones(N))\n",
    "        - np.diag(expImp * alpha * np.ones(N - 1), k=1)\n",
    "        - np.diag(expImp * alpha * np.ones(N - 1), k=-1)\n",
    "        # far off-diagonal terms representing y-transitions\n",
    "        - np.diag(expImp * alpha * np.ones(N - Nx), k=Nx)\n",
    "        - np.diag(expImp * alpha * np.ones(N - Nx), k=-Nx)\n",
    "    )\n",
    "\n",
    "    BMat = (\n",
    "        np.diag(1 - 4 * alpha * (1 - expImp) * np.ones(N))\n",
    "        + np.diag(alpha * (1 - expImp) * np.ones(N - 1), k=1)\n",
    "        + np.diag(alpha * (1 - expImp) * np.ones(N - 1), k=-1)\n",
    "        + np.diag(alpha * (1 - expImp) * np.ones(N - Nx), k=Nx)\n",
    "        + np.diag(alpha * (1 - expImp) * np.ones(N - Nx), k=-Nx)\n",
    "    )\n",
    "\n",
    "    # self._initializeBoundaryTerms(alpha)\n",
    "\n",
    "    CMat = np.matmul(np.linalg.inv(AMat), BMat)\n",
    "    return AMat, BMat, CMat\n",
    "\n",
    "# mimic constructor\n",
    "def test_constructor(\n",
    "    D, dt, dx, dy, x_array, y_array, is_sparse\n",
    "):\n",
    "\n",
    "    Nx = len(x_array)\n",
    "    Ny = len(y_array)\n",
    "    N = Nx * Ny\n",
    "\n",
    "    if is_sparse:\n",
    "        initDiffusionSparse(D, dt, dx, dy, N, Nx, Ny)\n",
    "    else:\n",
    "        initDiffusionNumpy(D, dt, dx, dy, N, Nx, Ny)\n"
   ]
  },
  {
   "cell_type": "code",
   "execution_count": 3,
   "metadata": {},
   "outputs": [
    {
     "name": "stdout",
     "output_type": "stream",
     "text": [
      "execution time: 0.015207500022370368 seconds for dx=0.2\n",
      "execution time: 0.05665924999630079 seconds for dx=0.1\n",
      "execution time: 0.13472299999557436 seconds for dx=0.075\n",
      "execution time: 1.1011290420137811 seconds for dx=0.05\n",
      "execution time: 58.759513249999145 seconds for dx=0.025\n"
     ]
    }
   ],
   "source": [
    "dx_arr = [0.2, 0.1, 0.075, 0.05, 0.025]\n",
    "time_arr_numpy = []\n",
    "\n",
    "for dx in dx_arr:\n",
    "    x_array = np.arange(-1, 1, dx)\n",
    "    y_array = np.arange(-1, 1, dx)\n",
    "\n",
    "    exec_time = timeit.timeit(lambda: test_constructor(D, dt, dx, dx, x_array, y_array, False), number=3)\n",
    "    time_arr_numpy.append(exec_time)\n",
    "    print(f\"execution time: {exec_time} seconds for dx={dx}\")\n"
   ]
  },
  {
   "cell_type": "code",
   "execution_count": 4,
   "metadata": {},
   "outputs": [
    {
     "name": "stdout",
     "output_type": "stream",
     "text": [
      "execution time: 0.053899458987871185 seconds for dx=0.2\n",
      "execution time: 0.22722808297839947 seconds for dx=0.1\n",
      "execution time: 0.4549411250045523 seconds for dx=0.075\n",
      "execution time: 1.4029828749771696 seconds for dx=0.05\n",
      "execution time: 18.119494708022103 seconds for dx=0.025\n"
     ]
    }
   ],
   "source": [
    "\n",
    "time_arr_sparse = []\n",
    "\n",
    "for dx in dx_arr:\n",
    "    x_array = np.arange(-1, 1, dx)\n",
    "    y_array = np.arange(-1, 1, dx)\n",
    "\n",
    "    exec_time = timeit.timeit(lambda: test_constructor(D, dt, dx, dx, x_array, y_array, True), number=3)\n",
    "    time_arr_sparse.append(exec_time)\n",
    "    print(f\"execution time: {exec_time} seconds for dx={dx}\")"
   ]
  },
  {
   "cell_type": "code",
   "execution_count": 5,
   "metadata": {},
   "outputs": [
    {
     "name": "stdout",
     "output_type": "stream",
     "text": [
      "execution time: 0.8784391670196783 seconds for dx=0.05\n",
      "execution time: 1.797804834000999 seconds for dx=0.045\n",
      "execution time: 3.1096318750060163 seconds for dx=0.04\n",
      "execution time: 7.384130582999205 seconds for dx=0.035\n",
      "execution time: 18.9643619999988 seconds for dx=0.03\n",
      "execution time: 57.38192620899645 seconds for dx=0.025\n",
      "execution time: 227.0701688330155 seconds for dx=0.02\n"
     ]
    }
   ],
   "source": [
    "# Here, we focus in on the 0.05 -> 0.025 regime\n",
    "dx_arr = [0.05, 0.045, 0.04, 0.035, 0.03, 0.025, 0.02]\n",
    "time_arr_numpy_alt = []\n",
    "\n",
    "for dx in dx_arr:\n",
    "    x_array = np.arange(-1, 1, dx)\n",
    "    y_array = np.arange(-1, 1, dx)\n",
    "\n",
    "    exec_time = timeit.timeit(lambda: test_constructor(D, dt, dx, dx, x_array, y_array, False), number=3)\n",
    "    time_arr_numpy_alt.append(exec_time)\n",
    "    print(f\"execution time: {exec_time} seconds for dx={dx}\")"
   ]
  },
  {
   "cell_type": "code",
   "execution_count": 7,
   "metadata": {},
   "outputs": [
    {
     "name": "stdout",
     "output_type": "stream",
     "text": [
      "execution time: 1.3710739579983056 seconds for dx=0.05\n",
      "execution time: 2.039973957987968 seconds for dx=0.045\n",
      "execution time: 2.8526476249971893 seconds for dx=0.04\n",
      "execution time: 4.879185333993519 seconds for dx=0.035\n",
      "execution time: 8.510112125019077 seconds for dx=0.03\n",
      "execution time: 17.66603408299852 seconds for dx=0.025\n",
      "execution time: 53.48611362502561 seconds for dx=0.02\n"
     ]
    }
   ],
   "source": [
    "dx_arr = [0.05, 0.045, 0.04, 0.035, 0.03, 0.025, 0.02]\n",
    "time_arr_sparse_alt = []\n",
    "\n",
    "for dx in dx_arr:\n",
    "    x_array = np.arange(-1, 1, dx)\n",
    "    y_array = np.arange(-1, 1, dx)\n",
    "\n",
    "    exec_time = timeit.timeit(lambda: test_constructor(D, dt, dx, dx, x_array, y_array, True), number=3)\n",
    "    time_arr_sparse_alt.append(exec_time)\n",
    "    print(f\"execution time: {exec_time} seconds for dx={dx}\")"
   ]
  },
  {
   "cell_type": "code",
   "execution_count": 13,
   "metadata": {},
   "outputs": [
    {
     "data": {
      "text/plain": [
       "<matplotlib.legend.Legend at 0x17ace9a50>"
      ]
     },
     "execution_count": 13,
     "metadata": {},
     "output_type": "execute_result"
    },
    {
     "data": {
      "image/png": "[encoded data removed]",
      "text/plain": [
       "<Figure size 432x252 with 1 Axes>"
      ]
     },
     "metadata": {
      "needs_background": "light"
     },
     "output_type": "display_data"
    }
   ],
   "source": [
    "fig, ax = plt.subplots(1, 1, figsize=(6, 3.5))\n",
    "\n",
    "n_arr = []\n",
    "for dx in dx_arr:\n",
    "    x_array = np.arange(-1, 1, dx)\n",
    "    n_arr.append(len(x_array) ** 2)\n",
    "\n",
    "ax.plot(n_arr, time_arr_numpy_alt, linewidth=2.5, color=sns.xkcd_rgb[\"tomato\"])\n",
    "ax.plot(n_arr, time_arr_sparse_alt, linewidth=2.5, color=sns.xkcd_rgb[\"cerulean\"])\n",
    "\n",
    "ax.plot(n_arr, time_arr_numpy_alt, 'o', markersize=6, color=sns.xkcd_rgb[\"tomato\"], label=\"Numpy\")\n",
    "ax.plot(n_arr, time_arr_sparse_alt, 'o', markersize=6, color=sns.xkcd_rgb[\"cerulean\"], label=\"Sparse\")\n",
    "\n",
    "ax.set_xlabel(r\"Number of matrix elements\", fontsize=15)\n",
    "ax.set_ylabel(r\"Runtime (seconds)\", fontsize=15)\n",
    "\n",
    "ax.legend(fontsize=12, frameon=False)\n"
   ]
  },
  {
   "cell_type": "code",
   "execution_count": 23,
   "metadata": {},
   "outputs": [],
   "source": [
    "# Finally, we want to actually check that the two routines are producing the same output\n",
    "dx = 0.05\n",
    "x_array = np.arange(-1, 1, dx)\n",
    "Nx = len(x_array)\n",
    "N = Nx * Nx\n",
    "\n",
    "A_np, B_np, C_np = initDiffusionNumpy(D, dt, dx, dx, N, Nx, Nx)\n",
    "A_sp, B_sp, C_sp = initDiffusionSparse(D, dt, dx, dx, N, Nx, Nx)\n"
   ]
  },
  {
   "cell_type": "code",
   "execution_count": 24,
   "metadata": {},
   "outputs": [
    {
     "data": {
      "text/plain": [
       "(True, True, True)"
      ]
     },
     "execution_count": 24,
     "metadata": {},
     "output_type": "execute_result"
    }
   ],
   "source": [
    "# Convert the scipy back into dense format\n",
    "\n",
    "np.all(np.isclose((A_sp.toarray() - A_np), 0)), np.all(np.isclose((B_sp.toarray() - B_np), 0)), np.all(np.isclose((C_sp.toarray() - C_np), 0))"
   ]
  },
  {
   "cell_type": "code",
   "execution_count": null,
   "metadata": {},
   "outputs": [],
   "source": [
    "# So, it lookd like this works, and given that we will primarily be working\n",
    "# with large arrays, we can default to the sparse matrix initialization methods"
   ]
  }
 ],
 "metadata": {
  "kernelspec": {
   "display_name": "Python 3",
   "language": "python",
   "name": "python3"
  },
  "language_info": {
   "codemirror_mode": {
    "name": "ipython",
    "version": 3
   },
   "file_extension": ".py",
   "mimetype": "text/x-python",
   "name": "python",
   "nbconvert_exporter": "python",
   "pygments_lexer": "ipython3",
   "version": "3.10.5"
  },
  "orig_nbformat": 4
 },
 "nbformat": 4,
 "nbformat_minor": 2
}
