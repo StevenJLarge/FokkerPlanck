{
 "cells": [
  {
   "cell_type": "markdown",
   "metadata": {},
   "source": [
    "# FPE - Advection-diffusion equation\n",
    "\n",
    "In this notebook, we go over the combination of both the advection and diffusion components of the Fokker-Planck equation together and benchmark the results against the expected physical quantities in a harmonic trap\n",
    "\n",
    "From a mathematical point of view, we are now solving the equation\n",
    "\n",
    "$$ \\partial_t p(x, t) = -\\beta D \\partial_x [F(x, t) p(x, t)] + D\\partial_{x}^2 p(x, t) $$\n",
    "\n",
    "where $F(x, t)$ is the (generally) time- and space-dependant force. In this notebook, instead of the constant force scenario (arising from a linear potential energy function) we look at a (time-independent) harmonic confining potential of the form\n",
    "\n",
    "$$ E(x) = \\frac{k}{2}(x - \\lambda)^2 $$\n",
    "\n",
    "In this case, the equilibrium distribution is given by \n",
    "\n",
    "$$ \\pi(x | \\lambda) \\propto e^{-\\beta E(x)} $$\n",
    "\n",
    "and is therefore a Gaussian, with mean $\\lambda$ and variance $1 / \\beta k$.\n",
    "\n",
    "Furthermore, in this scenario, if the initial state is a Gaussian distribution, then under the time-dependant dynamics, the distribution will stay Gaussian. FQuantitatively, the mean will evolve as\n",
    "\n",
    "$$ \\langle x \\rangle = \\lambda - \\langle x_0\\rangle e^{-\\beta D t} $$\n"
   ]
  },
  {
   "cell_type": "markdown",
   "metadata": {},
   "source": []
  }
 ],
 "metadata": {
  "language_info": {
   "name": "python"
  },
  "orig_nbformat": 4
 },
 "nbformat": 4,
 "nbformat_minor": 2
}
