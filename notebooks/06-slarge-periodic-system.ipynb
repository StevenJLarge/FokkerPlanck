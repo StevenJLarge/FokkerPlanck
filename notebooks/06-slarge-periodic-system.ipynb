{
 "cells": [
  {
   "cell_type": "markdown",
   "metadata": {},
   "source": [
    "# FPE - Periodic System\n",
    "\n",
    "This notebook looks into the simulation of a driven periodic system, in two `flavors'. Speficially, we first look at an overdamped system diffusing in the potential \n",
    "\n",
    "$$ E(x, \\lambda(t)) = \\frac{B^{\\dagger}}{2}\\sin(2\\pi [x - \\lambda(t)]) $$\n",
    "\n",
    "which is a periodic (sinusoidal) potential on the domain $x\\in [0, 1]$ with barrier height (trough to well) of $B^{\\dagger}$, and where the basin of that potential is give by the (time-dependent) quantity $\\lambda(t)$. Here, we assume that the system obexy periodic boundary conditions.  For this scenario, the force is given by\n",
    "\n",
    "$$ - \\partial_x E(x, \\lambda(t)) = -B^{\\dagger}\\pi \\cos(2\\pi [x - \\lambda(t)]) $$\n",
    "\n",
    "and this the corresponding FPE is \n",
    "\n",
    "$$ \\partial_t p(x, t) = -\\beta D B^{\\dagger}\\pi \\partial_x [\\cos\\left(2\\pi[x - \\lambda(t)]\\right) p(x, t)] + D\\partial_x^2p(x, t) $$\n",
    "\n",
    "For this situation (and the next), we will be interested in a quantity related to precision---in fact this is very similar to the *clock* precision defined by Seifert *et al.* in Ref[1]---defined as the net flux of probability per rotation of the potential minima. In the case a perfectly translating system, the entirety of the probability will be transported with the minimum, while for a less-that-perfectly precise system, some fraction of the probability will *leak* backwards over the potential barrier, and fail to be transported along with the potential minima. We would expect that, for slow speeds of the potential (small $\\dot{\\lambda}$) relative to the characteristic diffusion speed and strong potentials ($B^{\\dagger} \\gg \\beta$) the precision will be high, while for fast speeds and weak potentials, the precision will drop.  Ultimately, we will tease out the specificas of this relationship for a constant velocity protocol.  \n",
    "\n",
    "More concretely, we can measure the flux (at periodic steady state) by simply calculating $J = \\partial_x p |_{x^*}$ at an arbitrary location $x^*$, and integrating that expression over a single translation of the trap, or (equivalently), summing the singlke-point flux over all locations at a single point in time (when the system is in a periodic steady state).  Further, In this system, there is no stationary state in the sense of $\\partial_t p = 0$, however, the system will achieve a *periodic* steady state (or, more eloquently, a *stroboscopic* steady state) when $p(x, t) = p(x,t+n\\tau)$ for some period $\\tau$ and all $n \\geq 1$ [2, 3].\n",
    "\n",
    "Next, we will look at the same relationship, in a more complex system, where the time-dependent potential drags the system over a non-flat underlying energy landscape.  Specfically, we assume an underlying (periodic) static potential\n",
    "\n",
    "$$ E_{\\rm static}(x) = \\frac{A^{\\dagger}}{2}\\cos(6\\pi x) $$\n",
    "\n",
    "so that the total potential experienced by the system at any point in time is\n",
    "\n",
    "$$ E_{\\rm tot}(x, t) = \\frac{1}{2}\\left[ A^{\\dagger}\\cos(6\\pi x) + B^{\\dagger}\\cos(2\\pi (x - \\lambda(t))) \\right] $$\n",
    "\n",
    "By investigating this system, we can look at how strongly deviations in the underlying landscape impact the precision of the system as a whole.\n",
    "\n",
    "#### References\n",
    "- [1] Seifert Brownian Clocks\n",
    "- [2] Kasper\n",
    "- [3] Large Periodic Steady State"
   ]
  },
  {
   "cell_type": "markdown",
   "metadata": {},
   "source": []
  }
 ],
 "metadata": {
  "language_info": {
   "name": "python"
  },
  "orig_nbformat": 4
 },
 "nbformat": 4,
 "nbformat_minor": 2
}
