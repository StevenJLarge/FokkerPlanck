{
 "cells": [
  {
   "cell_type": "markdown",
   "metadata": {},
   "source": [
    "# FPE - Breathing trap\n",
    "\n",
    "In this notebook, we look at another example of a time-dependent potential energy landscape that is slightly more complex than the translating harmonic trap. In this situation, we investigate the dynamics of a diffusing system in the presence of a *breathing* harmonic potential. More succinctly, we investigate a system subjected to the potential energy function\n",
    "\n",
    "$$ E(x, t) = \\frac{k(t)}{2}x^2 $$\n",
    "\n",
    "In this case, the trap strength is time-dependent, and changes between an initial value $k_0$ at time $t=0$ and $k_{\\tau}$ at time $t=\\tau$.  So, here the effective Fokker-Planck equation governing the system dynamics is\n",
    "\n",
    "$$ \\partial_t p(x, t) = -\\beta Dk(t) \\partial_x [x p(x, t)] + D\\partial_x^2 p(x, t) $$\n",
    "\n",
    "In this notebook, we will look at the simulation of this evolution, introducing an explicit time-dependence into the potential (as well as how to implement that in practice) as well as measuring the path-dependence of the work required (as well as the variance of the work) and its dependence on the spacific path. Towards this end, we effectively will confirm the related research finding of Sivak and Crooks in Ref.[1] expressing the optimal minimum-dissipation control protocol ($\\dot{k}(t)$) for this system within the linear-response regime.\n",
    "\n",
    "#### References\n",
    "    [1] D.A. Sivak & G.E. Crooks, \"Thermodynamic metrics and optimal paths\", *Phys. Rev. Lett.*, **2012**"
   ]
  },
  {
   "cell_type": "code",
   "execution_count": null,
   "metadata": {},
   "outputs": [],
   "source": [
    "# First import the relevant modules\n",
    "import os\n",
    "import numpy as np\n",
    "from FPE.Integrator import FPE_Integrator_1D\n",
    "\n",
    "\n"
   ]
  },
  {
   "cell_type": "code",
   "execution_count": null,
   "metadata": {},
   "outputs": [],
   "source": []
  }
 ],
 "metadata": {
  "language_info": {
   "name": "python"
  },
  "orig_nbformat": 4
 },
 "nbformat": 4,
 "nbformat_minor": 2
}
