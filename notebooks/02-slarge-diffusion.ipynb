{
 "cells": [
  {
   "cell_type": "markdown",
   "metadata": {},
   "source": [
    "# Fokker-Planck Equation II: Diffusion\n",
    "\n",
    "This notebook looks into the integration of the diffusion term in the Fokker-Planck eqution, in the absence of Advection\n",
    "Effectively, this means we will be simulating the dynamics of the equation\n",
    "\n",
    "$$ \\frac{\\partial p(x, t)}{\\partial t} = -D \\frac{\\partial^2 p(x, t)}{\\partial x^2} $$\n",
    "\n",
    "In this case, the method of solution is somewhat more complicated, as for stability we need to implement a semi-implicit scheme, in this case known as the *Crank-Nicolson* method.\n",
    "\n",
    "In this case, for an initial distribution that is Gaussian, we should see that the distribution will spread out, and its variance should increase linearly in time $\\sigma^2 \\sim t$ (that is, until it interacts with a boundary condition), with proportionality related to the diffusion coefficient. We should still see and verify that normalization is preserved, and that the boundary conditions (in this case, periodic, open, and hard-wall) produce consistent results."
   ]
  },
  {
   "cell_type": "code",
   "execution_count": 1,
   "metadata": {},
   "outputs": [
    {
     "ename": "TypeError",
     "evalue": "Can't instantiate abstract class FPE_Integrator_1D with abstract method lax",
     "output_type": "error",
     "traceback": [
      "\u001b[0;31m---------------------------------------------------------------------------\u001b[0m",
      "\u001b[0;31mTypeError\u001b[0m                                 Traceback (most recent call last)",
      "\u001b[1;32m/Users/stevelarge/Research/FokkerPlanck/notebooks/02-slarge-diffusion.ipynb Cell 2'\u001b[0m in \u001b[0;36m<cell line: 16>\u001b[0;34m()\u001b[0m\n\u001b[1;32m     <a href='vscode-notebook-cell:/Users/stevelarge/Research/FokkerPlanck/notebooks/02-slarge-diffusion.ipynb#ch0000003?line=12'>13</a>\u001b[0m x_array \u001b[39m=\u001b[39m np\u001b[39m.\u001b[39marange(\u001b[39m-\u001b[39m\u001b[39m1\u001b[39m, \u001b[39m1\u001b[39m, dx)\n\u001b[1;32m     <a href='vscode-notebook-cell:/Users/stevelarge/Research/FokkerPlanck/notebooks/02-slarge-diffusion.ipynb#ch0000003?line=14'>15</a>\u001b[0m \u001b[39m# To start, initialize an integrator object\u001b[39;00m\n\u001b[0;32m---> <a href='vscode-notebook-cell:/Users/stevelarge/Research/FokkerPlanck/notebooks/02-slarge-diffusion.ipynb#ch0000003?line=15'>16</a>\u001b[0m fpe \u001b[39m=\u001b[39m Integrator\u001b[39m.\u001b[39;49mFPE_Integrator_1D(D, dt, dx, x_array, boundaryCond\u001b[39m=\u001b[39;49m\u001b[39m\"\u001b[39;49m\u001b[39mperiodic\u001b[39;49m\u001b[39m\"\u001b[39;49m)\n\u001b[1;32m     <a href='vscode-notebook-cell:/Users/stevelarge/Research/FokkerPlanck/notebooks/02-slarge-diffusion.ipynb#ch0000003?line=17'>18</a>\u001b[0m \u001b[39m# And we can, again, list the integrator attributes\u001b[39;00m\n\u001b[1;32m     <a href='vscode-notebook-cell:/Users/stevelarge/Research/FokkerPlanck/notebooks/02-slarge-diffusion.ipynb#ch0000003?line=18'>19</a>\u001b[0m fpe\u001b[39m.\u001b[39m__dict__keys()\n",
      "\u001b[0;31mTypeError\u001b[0m: Can't instantiate abstract class FPE_Integrator_1D with abstract method lax"
     ]
    }
   ],
   "source": [
    "# To start, pull in the necessary imports\n",
    "import numpy as np\n",
    "import matplotlib.pyplot as plt\n",
    "import seaborn as sns\n",
    "sns.set(style=\"darkgrid\")\n",
    "# the 1d integrator is contained in the Integrator module\n",
    "from FPE import Integrator\n",
    "\n",
    "# Dynamics parameters\n",
    "D = 1.0\n",
    "dt = 0.01\n",
    "dx = 0.01\n",
    "x_array = np.arange(-1, 1, dx)\n",
    "\n",
    "# To start, initialize an integrator object\n",
    "fpe = Integrator.FPE_Integrator_1D(D, dt, dx, x_array, boundaryCond=\"periodic\")\n",
    "\n",
    "# And we can, again, list the integrator attributes\n",
    "fpe.__dict__keys()"
   ]
  },
  {
   "cell_type": "code",
   "execution_count": null,
   "metadata": {},
   "outputs": [],
   "source": []
  }
 ],
 "metadata": {
  "kernelspec": {
   "display_name": "Python 3.10.4 ('FPE')",
   "language": "python",
   "name": "python3"
  },
  "language_info": {
   "codemirror_mode": {
    "name": "ipython",
    "version": 3
   },
   "file_extension": ".py",
   "mimetype": "text/x-python",
   "name": "python",
   "nbconvert_exporter": "python",
   "pygments_lexer": "ipython3",
   "version": "3.10.4"
  },
  "orig_nbformat": 4,
  "vscode": {
   "interpreter": {
    "hash": "1685b5e9335fc8175f09ab11b80e729aaa4ca979d4f831e0cd638df1fb4c129b"
   }
  }
 },
 "nbformat": 4,
 "nbformat_minor": 2
}
