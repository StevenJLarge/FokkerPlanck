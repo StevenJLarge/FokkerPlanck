{
 "cells": [
  {
   "cell_type": "markdown",
   "metadata": {},
   "source": [
    "# Fokker-Planck Equation II: Diffusion\n",
    "\n",
    "This notebook looks into the integration of the diffusion term in the Fokker-Planck eqution, in the absence of Advection\n",
    "Effectively, this means we will be simulating the dynamics of the equation\n",
    "\n",
    "$$ \\frac{\\partial p(x, t)}{\\partial t} = -D \\frac{\\partial^2 p(x, t)}{\\partial x^2} $$\n",
    "\n",
    "In this case, the method of solution is somewhat more complicated, as for stability we need to implement a semi-implicit scheme, in this case known as the *Crank-Nicolson* method.\n",
    "\n"
   ]
  },
  {
   "cell_type": "markdown",
   "metadata": {},
   "source": []
  }
 ],
 "metadata": {
  "language_info": {
   "name": "python"
  },
  "orig_nbformat": 4
 },
 "nbformat": 4,
 "nbformat_minor": 2
}
