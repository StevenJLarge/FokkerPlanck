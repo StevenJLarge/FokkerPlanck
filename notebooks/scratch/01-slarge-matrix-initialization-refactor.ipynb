{
 "cells": [
  {
   "cell_type": "markdown",
   "metadata": {},
   "source": [
    "# Fokker-Planck Equation\n",
    "\n",
    "### Matrix initialization refactor\n",
    "\n",
    "Currently, the diffusion matrices are initialized using a native python list comprehension. This is inefficient from a computational perspective, and in this notebook we attempt to improve upon this process by translating the initialization into lower-level python libraries (`numpy`)."
   ]
  },
  {
   "cell_type": "code",
   "execution_count": 32,
   "metadata": {},
   "outputs": [],
   "source": [
    "# First import the FPE library\n",
    "import numpy as np\n",
    "import matplotlib.pyplot as plt\n",
    "import seaborn as sns\n",
    "from FPE.Integrator import FPE_Integrator_1D\n",
    "sns.set(style=\"darkgrid\", palette=\"hls\")\n",
    "\n",
    "D = 1.0\n",
    "dt = 0.01\n",
    "dx = 0.2\n",
    "x_array = np.arange(0, 1, dx)\n",
    "\n",
    "# Firsty, start with open boundaries os that there is no influence from the BCs\n",
    "fpe = FPE_Integrator_1D(D, dt, dx, x_array, boundaryCond='open')"
   ]
  },
  {
   "cell_type": "code",
   "execution_count": 2,
   "metadata": {},
   "outputs": [
    {
     "data": {
      "text/plain": [
       "array([[ 1.25 , -0.125,  0.   ,  0.   ,  0.   ],\n",
       "       [-0.125,  1.25 , -0.125,  0.   ,  0.   ],\n",
       "       [ 0.   , -0.125,  1.25 , -0.125,  0.   ],\n",
       "       [ 0.   ,  0.   , -0.125,  1.25 , -0.125],\n",
       "       [ 0.   ,  0.   ,  0.   , -0.125,  1.25 ]])"
      ]
     },
     "execution_count": 2,
     "metadata": {},
     "output_type": "execute_result"
    }
   ],
   "source": [
    "fpe.AMat"
   ]
  },
  {
   "cell_type": "markdown",
   "metadata": {},
   "source": [
    "Simply, this ia a tridiagonal matrix, with diagonal terms given by \n",
    "\n",
    "$$ A_{ii} = 1 + 2\\alpha*\\beta $$\n",
    "\n",
    "where $\\alpha = D \\Delta t / (\\Delta x)^2$ is determined by input parameters, and $\\beta \\in [0, 1]$ is the splitting fraction between explicit (0) and implicit (1) schemes (which defaults to the Crank-Nicolson avlue of 1/2).\n",
    "\n",
    "the off diagonal terms are \n",
    "\n",
    "$$ A_{i, i\\pm 1} = -\\alpha\\beta $$\n",
    "\n",
    "So, we can initialize this matrix by simply adding together three diagonal matrices, generate using `numpy`\n"
   ]
  },
  {
   "cell_type": "code",
   "execution_count": 7,
   "metadata": {},
   "outputs": [
    {
     "data": {
      "text/plain": [
       "array([[ 1.25 , -0.125,  0.   ,  0.   ,  0.   ],\n",
       "       [-0.125,  1.25 , -0.125,  0.   ,  0.   ],\n",
       "       [ 0.   , -0.125,  1.25 , -0.125,  0.   ],\n",
       "       [ 0.   ,  0.   , -0.125,  1.25 , -0.125],\n",
       "       [ 0.   ,  0.   ,  0.   , -0.125,  1.25 ]])"
      ]
     },
     "execution_count": 7,
     "metadata": {},
     "output_type": "execute_result"
    }
   ],
   "source": [
    "alpha = D * dt / (dx * dx)\n",
    "beta = 0.5\n",
    "\n",
    "AMat_alt = (\n",
    "    np.diag(1 + 2 * alpha * beta * np.ones(len(x_array)))\n",
    "    + np.diag(-1 * alpha * beta * np.ones(len(x_array)-1), k=1)\n",
    "    + np.diag(-1 * alpha * beta * np.ones(len(x_array)-1), k=-1)\n",
    ")\n",
    "\n",
    "AMat_alt"
   ]
  },
  {
   "cell_type": "code",
   "execution_count": 18,
   "metadata": {},
   "outputs": [],
   "source": [
    "# Now, we can look at timing the initialization on the list comprehension and numpy 'version'\n",
    "# in the open boundary conditions, for various grid sizes\n",
    "\n",
    "dx = 0.01\n",
    "x_array = np.arange(0, 1, dx)\n",
    "fpe = FPE_Integrator_1D(D, dt, dx, x_array, boundaryCond='open')\n",
    "\n",
    "def initDiffusionMatrix_alt(alpha, beta, x_array):\n",
    "    _ = (\n",
    "        np.diag(1 + 2 * alpha * beta * np.ones(len(x_array)))\n",
    "        + np.diag(-1 * alpha * beta * np.ones(len(x_array)-1), k=1)\n",
    "        + np.diag(-1 * alpha * beta * np.ones(len(x_array)-1), k=-1)\n",
    "    )"
   ]
  },
  {
   "cell_type": "code",
   "execution_count": 19,
   "metadata": {},
   "outputs": [
    {
     "name": "stdout",
     "output_type": "stream",
     "text": [
      "3.82 ms ± 113 µs per loop (mean ± std. dev. of 7 runs, 100 loops each)\n"
     ]
    }
   ],
   "source": [
    "%timeit fpe.initDiffusionMatrix()"
   ]
  },
  {
   "cell_type": "code",
   "execution_count": 20,
   "metadata": {},
   "outputs": [
    {
     "name": "stdout",
     "output_type": "stream",
     "text": [
      "35.9 µs ± 684 ns per loop (mean ± std. dev. of 7 runs, 10,000 loops each)\n"
     ]
    }
   ],
   "source": [
    "res = %timeit -o initDiffusionMatrix_alt(alpha, beta, x_array)"
   ]
  },
  {
   "cell_type": "code",
   "execution_count": 31,
   "metadata": {},
   "outputs": [
    {
     "name": "stdout",
     "output_type": "stream",
     "text": [
      "42.4 µs ± 3.16 µs per loop (mean ± std. dev. of 7 runs, 10,000 loops each)\n",
      "17.5 µs ± 126 ns per loop (mean ± std. dev. of 7 runs, 100,000 loops each)\n",
      "97.6 µs ± 3.67 µs per loop (mean ± std. dev. of 7 runs, 10,000 loops each)\n",
      "18.1 µs ± 187 ns per loop (mean ± std. dev. of 7 runs, 100,000 loops each)\n",
      "239 µs ± 42.3 µs per loop (mean ± std. dev. of 7 runs, 1,000 loops each)\n",
      "19.7 µs ± 81 ns per loop (mean ± std. dev. of 7 runs, 10,000 loops each)\n",
      "The slowest run took 4.00 times longer than the fastest. This could mean that an intermediate result is being cached.\n",
      "970 µs ± 698 µs per loop (mean ± std. dev. of 7 runs, 1,000 loops each)\n",
      "21.5 µs ± 187 ns per loop (mean ± std. dev. of 7 runs, 10,000 loops each)\n",
      "2.44 ms ± 20.9 µs per loop (mean ± std. dev. of 7 runs, 100 loops each)\n",
      "32.9 µs ± 2.86 µs per loop (mean ± std. dev. of 7 runs, 10,000 loops each)\n",
      "9.07 ms ± 120 µs per loop (mean ± std. dev. of 7 runs, 100 loops each)\n",
      "56.7 µs ± 482 ns per loop (mean ± std. dev. of 7 runs, 10,000 loops each)\n",
      "36.2 ms ± 301 µs per loop (mean ± std. dev. of 7 runs, 10 loops each)\n",
      "137 µs ± 1.01 µs per loop (mean ± std. dev. of 7 runs, 10,000 loops each)\n",
      "162 ms ± 3.65 ms per loop (mean ± std. dev. of 7 runs, 10 loops each)\n",
      "474 µs ± 1.96 µs per loop (mean ± std. dev. of 7 runs, 1,000 loops each)\n",
      "699 ms ± 8.71 ms per loop (mean ± std. dev. of 7 runs, 1 loop each)\n",
      "2.99 ms ± 274 µs per loop (mean ± std. dev. of 7 runs, 100 loops each)\n",
      "3.48 s ± 136 ms per loop (mean ± std. dev. of 7 runs, 1 loop each)\n",
      "12.8 ms ± 434 µs per loop (mean ± std. dev. of 7 runs, 100 loops each)\n"
     ]
    }
   ],
   "source": [
    "# Now lets look at this scaling with grid dimension\n",
    "N = [2 ** i * 5 for i in range(10)]\n",
    "\n",
    "time_legacy = []\n",
    "err_legacy = []\n",
    "time_alt = []\n",
    "err_alt = []\n",
    "\n",
    "for n in N:\n",
    "    x_array = np.linspace(0, 1, n)\n",
    "    dx = x_array[1] - x_array[0]\n",
    "    alpha = D * dt / (dx * dx)\n",
    "    fpe = FPE_Integrator_1D(D, dt, dx, x_array)\n",
    "    res_leg = %timeit -o fpe.initDiffusionMatrix()\n",
    "    res_alt = %timeit -o initDiffusionMatrix_alt(alpha, beta, x_array)\n",
    "\n",
    "    time_legacy.append(res_leg.average)\n",
    "    time_alt.append(res_alt.average)\n",
    "\n",
    "    err_legacy.append(res_leg.stdev)\n",
    "    err_alt.append(res_alt.stdev)\n"
   ]
  },
  {
   "cell_type": "code",
   "execution_count": 35,
   "metadata": {},
   "outputs": [
    {
     "data": {
      "text/plain": [
       "Text(0, 0.5, 'Initialization time (seconds)')"
      ]
     },
     "execution_count": 35,
     "metadata": {},
     "output_type": "execute_result"
    },
    {
     "data": {
      "image/png": "[encoded data removed]",
      "text/plain": [
       "<Figure size 432x252 with 1 Axes>"
      ]
     },
     "metadata": {
      "needs_background": "light"
     },
     "output_type": "display_data"
    }
   ],
   "source": [
    "# And now we can plot the timed results to investigate\n",
    "fig, ax = plt.subplots(1, 1, figsize=(6, 3.5))\n",
    "\n",
    "ax.fill_between(N, np.array(time_legacy) + np.array(err_legacy), np.array(time_legacy) - np.array(err_legacy), color=sns.xkcd_rgb[\"tomato\"], alpha=0.3)\n",
    "ax.fill_between(N, np.array(time_alt) + np.array(err_alt), np.array(time_alt) - np.array(err_alt), color=sns.xkcd_rgb[\"cerulean\"], alpha=0.3)\n",
    "\n",
    "ax.plot(N, time_legacy, linewidth=2.0, color=sns.xkcd_rgb[\"tomato\"], label=\"Legacy\")\n",
    "ax.plot(N, time_alt, linewidth=2.0, color=sns.xkcd_rgb[\"cerulean\"], label=\"Refactor\")\n",
    "\n",
    "ax.legend(fontsize=12, frameon=False)\n",
    "ax.set_yscale('log')\n",
    "ax.set_xscale('log')\n",
    "\n",
    "ax.set_xlabel(r\"Matrix columns\", fontsize=15)\n",
    "ax.set_ylabel(r\"Initialization time (seconds)\", fontsize=15)\n",
    "\n"
   ]
  },
  {
   "cell_type": "markdown",
   "metadata": {},
   "source": [
    "So, here we can see that there is a speedup of over two orders of magnitude asymptotically with the numpy-based initialization. This is largely expected, as list comprehensions are pure python in their execution (and further act on the most inefficient aspects of python at that), while the `numpy` based initialization is largely working off of the `C`-based backend of the highly optimized `numpy` library.\n",
    "\n",
    "In the background, I have updated the implementations of the matrix initialization in the integrator code, so the final step will be to check that the two routines generate the same matrices for all boundary conditions, and then delete the depricated code, and submit the modifications to the master branch"
   ]
  },
  {
   "cell_type": "code",
   "execution_count": null,
   "metadata": {},
   "outputs": [],
   "source": []
  }
 ],
 "metadata": {
  "kernelspec": {
   "display_name": "Python 3.10.5 ('FPE')",
   "language": "python",
   "name": "python3"
  },
  "language_info": {
   "codemirror_mode": {
    "name": "ipython",
    "version": 3
   },
   "file_extension": ".py",
   "mimetype": "text/x-python",
   "name": "python",
   "nbconvert_exporter": "python",
   "pygments_lexer": "ipython3",
   "version": "3.10.5"
  },
  "orig_nbformat": 4,
  "vscode": {
   "interpreter": {
    "hash": "1685b5e9335fc8175f09ab11b80e729aaa4ca979d4f831e0cd638df1fb4c129b"
   }
  }
 },
 "nbformat": 4,
 "nbformat_minor": 2
}
